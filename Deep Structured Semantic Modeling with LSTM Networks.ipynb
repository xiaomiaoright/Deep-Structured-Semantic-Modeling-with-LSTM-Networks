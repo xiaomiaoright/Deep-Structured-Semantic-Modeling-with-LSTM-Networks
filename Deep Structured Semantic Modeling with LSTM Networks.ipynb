{
 "cells": [
  {
   "cell_type": "markdown",
   "metadata": {},
   "source": [
    "# Deep Structured Semantic Modeling with LSTM Networks\n",
    "* DSSM stands for Deep Structured Semantic Model, or more general, Deep Semantic Similarity Model.\n",
    "*  deep neural network (DNN) modeling technique for representing text strings (sentences, queries, predicates, entity mentions, etc.) in a continuous semantic space and modeling semantic similarity between two text strings\n",
    "* create an end-to-end modeling workflow for the DSSM network"
   ]
  },
  {
   "cell_type": "code",
   "execution_count": 1,
   "metadata": {},
   "outputs": [
    {
     "name": "stderr",
     "output_type": "stream",
     "text": [
      "cntk-2.3.1-cp35-cp35m-linux_x86_64.whl is not a supported wheel on this platform.\n",
      "You are using pip version 10.0.1, however version 19.2.3 is available.\n",
      "You should consider upgrading via the 'python -m pip install --upgrade pip' command.\n"
     ]
    }
   ],
   "source": [
    "# Upgrade to CNTK 2.3.1\n",
    "!pip install --upgrade --no-deps https://cntk.ai/PythonWheel/CPU-Only/cntk-2.3.1-cp35-cp35m-linux_x86_64.whl"
   ]
  },
  {
   "cell_type": "code",
   "execution_count": 3,
   "metadata": {},
   "outputs": [],
   "source": [
    "# Import the relevant libraries\n",
    "\n",
    "import math\n",
    "import numpy as np\n",
    "import os\n",
    "from __future__ import print_function # Use a function definition from future version (say 3.x from 2.7 interpreter)\n",
    "\n",
    "import cntk as C\n",
    "import cntk.tests.test_utils\n",
    "cntk.tests.test_utils.set_device_from_pytest_env() # (only needed for our build system)\n",
    "C.cntk_py.set_fixed_random_seed(1) # fix a random seed for CNTK components"
   ]
  },
  {
   "cell_type": "markdown",
   "metadata": {},
   "source": [
    "**Data Preparation**"
   ]
  },
  {
   "cell_type": "code",
   "execution_count": 6,
   "metadata": {},
   "outputs": [
    {
     "name": "stdout",
     "output_type": "stream",
     "text": [
      "Starting download: vocab_A.wl\n",
      "http://www.cntk.ai/jup/dat/DSSM/vocab_A.wl.csv\n",
      "Download completed\n",
      "Starting download: vocab_Q.wl\n",
      "http://www.cntk.ai/jup/dat/DSSM/vocab_Q.wl.csv\n",
      "Download completed\n",
      "Starting download: train.pair.tok.ctf\n",
      "http://www.cntk.ai/jup/dat/DSSM/train.pair.tok.ctf.csv\n",
      "Download completed\n",
      "Starting download: valid.pair.tok.ctf\n",
      "http://www.cntk.ai/jup/dat/DSSM/valid.pair.tok.ctf.csv\n",
      "Download completed\n"
     ]
    }
   ],
   "source": [
    "location = os.path.normpath('data/DSSM')\n",
    "data = {\n",
    "  'train': { 'file': 'train.pair.tok.ctf' },\n",
    "  'val':{ 'file': 'valid.pair.tok.ctf' },\n",
    "  'query': { 'file': 'vocab_Q.wl' },\n",
    "  'answer': { 'file': 'vocab_A.wl' }\n",
    "}\n",
    "\n",
    "import requests\n",
    "\n",
    "def download(url, filename):\n",
    "    \"\"\" utility function to download a file \"\"\"\n",
    "    response = requests.get(url, stream=True)\n",
    "    with open(filename, \"wb\") as handle:\n",
    "        for data in response.iter_content():\n",
    "            handle.write(data)\n",
    "\n",
    "if not os.path.exists(location):\n",
    "    os.mkdir(location)\n",
    "     \n",
    "for item in data.values():\n",
    "    path = os.path.normpath(os.path.join(location, item['file']))\n",
    "\n",
    "    if os.path.exists(path):\n",
    "        print(\"Reusing locally cached:\", path)\n",
    "        \n",
    "    else:\n",
    "        print(\"Starting download:\", item['file'])\n",
    "        url = \"http://www.cntk.ai/jup/dat/DSSM/%s.csv\"%(item['file'])\n",
    "        print(url)\n",
    "        download(url, path)\n",
    "        print(\"Download completed\")\n",
    "    item['file'] = path"
   ]
  },
  {
   "cell_type": "markdown",
   "metadata": {},
   "source": [
    "**Define Reader**\n",
    "\n",
    "CTF deserializer to read the input data"
   ]
  },
  {
   "cell_type": "code",
   "execution_count": 7,
   "metadata": {},
   "outputs": [],
   "source": [
    "# Define the vocabulary size (QRY-stands for question and ANS stands for answer)\n",
    "QRY_SIZE = 1204\n",
    "ANS_SIZE = 1019\n",
    "\n",
    "def create_reader(path, is_training):\n",
    "    return C.io.MinibatchSource(C.io.CTFDeserializer(path, C.io.StreamDefs(\n",
    "         query = C.io.StreamDef(field='S0', shape=QRY_SIZE,  is_sparse=True),\n",
    "         answer  = C.io.StreamDef(field='S1', shape=ANS_SIZE, is_sparse=True)\n",
    "     )), randomize=is_training, max_sweeps = C.io.INFINITELY_REPEAT if is_training else 1)"
   ]
  },
  {
   "cell_type": "code",
   "execution_count": 8,
   "metadata": {},
   "outputs": [
    {
     "name": "stdout",
     "output_type": "stream",
     "text": [
      "data\\DSSM\\train.pair.tok.ctf\n",
      "data\\DSSM\\valid.pair.tok.ctf\n"
     ]
    }
   ],
   "source": [
    "train_file = data['train']['file']\n",
    "print(train_file)\n",
    "\n",
    "if os.path.exists(train_file):\n",
    "    train_source = create_reader(train_file, is_training=True)\n",
    "else:\n",
    "    raise ValueError(\"Cannot locate file {0} in current directory {1}\".format(train_file, os.getcwd()))\n",
    "\n",
    "validation_file = data['val']['file']\n",
    "print(validation_file)\n",
    "if os.path.exists(validation_file):\n",
    "    val_source = create_reader(validation_file, is_training=False)\n",
    "else:\n",
    "    raise ValueError(\"Cannot locate file {0} in current directory {1}\".format(validation_file, os.getcwd()))"
   ]
  },
  {
   "cell_type": "markdown",
   "metadata": {},
   "source": [
    "**Define  LSTM-RNN model**"
   ]
  },
  {
   "cell_type": "code",
   "execution_count": 9,
   "metadata": {},
   "outputs": [],
   "source": [
    "# Create the containers for input feature (x) and the label (y)\n",
    "qry = C.sequence.input_variable(QRY_SIZE)\n",
    "ans = C.sequence.input_variable(ANS_SIZE)"
   ]
  },
  {
   "cell_type": "code",
   "execution_count": 10,
   "metadata": {},
   "outputs": [],
   "source": [
    "# Create the containers for input feature (x) and the label (y)\n",
    "axis_qry = C.Axis.new_unique_dynamic_axis('axis_qry')\n",
    "qry = C.sequence.input_variable(QRY_SIZE, sequence_axis=axis_qry)\n",
    "\n",
    "axis_ans = C.Axis.new_unique_dynamic_axis('axis_ans')\n",
    "ans = C.sequence.input_variable(ANS_SIZE, sequence_axis=axis_ans)"
   ]
  },
  {
   "cell_type": "code",
   "execution_count": 11,
   "metadata": {},
   "outputs": [],
   "source": [
    "EMB_DIM   = 25 # Embedding dimension\n",
    "HIDDEN_DIM = 50 # LSTM dimension\n",
    "DSSM_DIM = 25 # Dense layer dimension  \n",
    "NEGATIVE_SAMPLES = 5\n",
    "DROPOUT_RATIO = 0.2"
   ]
  },
  {
   "cell_type": "code",
   "execution_count": 12,
   "metadata": {},
   "outputs": [],
   "source": [
    "def create_model(qry, ans):\n",
    "    with C.layers.default_options(initial_state=0.1):\n",
    "        qry_vector = C.layers.Sequential([\n",
    "            C.layers.Embedding(EMB_DIM, name='embed'),\n",
    "            C.layers.Recurrence(C.layers.LSTM(HIDDEN_DIM), go_backwards=False),\n",
    "            C.sequence.last,\n",
    "            C.layers.Dense(DSSM_DIM, activation=C.relu, name='q_proj'),\n",
    "            C.layers.Dropout(DROPOUT_RATIO, name='dropout qdo1'),\n",
    "            C.layers.Dense(DSSM_DIM, activation=C.tanh, name='q_enc')\n",
    "        ])\n",
    "        \n",
    "        ans_vector = C.layers.Sequential([\n",
    "            C.layers.Embedding(EMB_DIM, name='embed'),\n",
    "            C.layers.Recurrence(C.layers.LSTM(HIDDEN_DIM), go_backwards=False),\n",
    "            C.sequence.last,\n",
    "            C.layers.Dense(DSSM_DIM, activation=C.relu, name='a_proj'),\n",
    "            C.layers.Dropout(DROPOUT_RATIO, name='dropout ado1'),\n",
    "            C.layers.Dense(DSSM_DIM, activation=C.tanh, name='a_enc')\n",
    "        ])\n",
    "\n",
    "    return {\n",
    "        'query_vector': qry_vector(qry),\n",
    "        'answer_vector': ans_vector(ans)\n",
    "    }\n",
    "\n",
    "# Create the model and store reference in `network` dictionary\n",
    "network = create_model(qry, ans)\n",
    "\n",
    "network['query'], network['axis_qry'] = qry, axis_qry\n",
    "network['answer'], network['axis_ans'] = ans, axis_ans"
   ]
  },
  {
   "cell_type": "markdown",
   "metadata": {},
   "source": [
    "**Train the model**"
   ]
  },
  {
   "cell_type": "code",
   "execution_count": 13,
   "metadata": {},
   "outputs": [],
   "source": [
    "# Loss Function\n",
    "def create_loss(vector_a, vector_b):\n",
    "    qry_ans_similarity = C.cosine_distance_with_negative_samples(vector_a, \\\n",
    "                                                                 vector_b, \\\n",
    "                                                                 shift=1, \\\n",
    "                                                                 num_negative_samples=5)\n",
    "    return 1 - qry_ans_similarity"
   ]
  },
  {
   "cell_type": "code",
   "execution_count": 14,
   "metadata": {},
   "outputs": [],
   "source": [
    "# Model parameters\n",
    "MAX_EPOCHS = 5\n",
    "EPOCH_SIZE = 10000\n",
    "MINIBATCH_SIZE = 50"
   ]
  },
  {
   "cell_type": "code",
   "execution_count": 15,
   "metadata": {},
   "outputs": [],
   "source": [
    "# Create trainer\n",
    "def create_trainer(reader, network):\n",
    "    \n",
    "    # Setup the progress updater\n",
    "    progress_writer = C.logging.ProgressPrinter(tag='Training', num_epochs=MAX_EPOCHS)\n",
    "\n",
    "    # Set learning parameters\n",
    "    lr_per_sample     = [0.0015625]*20 + \\\n",
    "                        [0.00046875]*20 + \\\n",
    "                        [0.00015625]*20 + \\\n",
    "                        [0.000046875]*10 + \\\n",
    "                        [0.000015625]\n",
    "    lr_schedule       = C.learning_parameter_schedule_per_sample(lr_per_sample, \\\n",
    "                                                 epoch_size=EPOCH_SIZE)\n",
    "    mms               = [0]*20 + [0.9200444146293233]*20 + [0.9591894571091382]\n",
    "    mm_schedule       = C.learners.momentum_schedule(mms, \\\n",
    "                                                     epoch_size=EPOCH_SIZE, \\\n",
    "                                                     minibatch_size=MINIBATCH_SIZE)\n",
    "    l2_reg_weight     = 0.0002\n",
    "\n",
    "    model = C.combine(network['query_vector'], network['answer_vector'])\n",
    "\n",
    "    #Notify the network that the two dynamic axes are indeed same\n",
    "    query_reconciled = C.reconcile_dynamic_axes(network['query_vector'], network['answer_vector'])\n",
    "  \n",
    "    network['loss'] = create_loss(query_reconciled, network['answer_vector'])\n",
    "    network['error'] = None\n",
    "\n",
    "    print('Using momentum sgd with no l2')\n",
    "    dssm_learner = C.learners.momentum_sgd(model.parameters, lr_schedule, mm_schedule)\n",
    "\n",
    "    network['learner'] = dssm_learner\n",
    " \n",
    "    print('Using local learner')\n",
    "    # Create trainer\n",
    "    return C.Trainer(model, (network['loss'], network['error']), network['learner'], progress_writer)    "
   ]
  },
  {
   "cell_type": "code",
   "execution_count": 16,
   "metadata": {},
   "outputs": [
    {
     "name": "stdout",
     "output_type": "stream",
     "text": [
      "Using momentum sgd with no l2\n",
      "Using local learner\n"
     ]
    }
   ],
   "source": [
    "# Instantiate the trainer\n",
    "trainer = create_trainer(train_source, network)"
   ]
  },
  {
   "cell_type": "code",
   "execution_count": 17,
   "metadata": {},
   "outputs": [],
   "source": [
    "# Train \n",
    "def do_train(network, trainer, train_source):\n",
    "    # define mapping from intput streams to network inputs\n",
    "    input_map = {\n",
    "        network['query']: train_source.streams.query,\n",
    "        network['answer']: train_source.streams.answer\n",
    "        } \n",
    "\n",
    "    t = 0\n",
    "    for epoch in range(MAX_EPOCHS):         # loop over epochs\n",
    "        epoch_end = (epoch+1) * EPOCH_SIZE\n",
    "        while t < epoch_end:                # loop over minibatches on the epoch\n",
    "            data = train_source.next_minibatch(MINIBATCH_SIZE, input_map= input_map)  # fetch minibatch\n",
    "            trainer.train_minibatch(data)               # update model with it\n",
    "            t += MINIBATCH_SIZE\n",
    "\n",
    "        trainer.summarize_training_progress()"
   ]
  },
  {
   "cell_type": "code",
   "execution_count": 18,
   "metadata": {},
   "outputs": [
    {
     "name": "stdout",
     "output_type": "stream",
     "text": [
      "Learning rate per 1 samples: 0.0015625\n",
      "Momentum per 50 samples: 0.0\n",
      "Finished Epoch[1 of 5]: [Training] loss = 0.272678 * 1522, metric = 0.00% * 1522 16.215s ( 93.9 samples/s);\n",
      "Finished Epoch[2 of 5]: [Training] loss = 0.094336 * 1530, metric = 0.00% * 1530 4.259s (359.2 samples/s);\n",
      "Finished Epoch[3 of 5]: [Training] loss = 0.065550 * 1525, metric = 0.00% * 1525 2.848s (535.5 samples/s);\n",
      "Finished Epoch[4 of 5]: [Training] loss = 0.050387 * 1534, metric = 0.00% * 1534 2.549s (601.8 samples/s);\n",
      "Finished Epoch[5 of 5]: [Training] loss = 0.038557 * 1510, metric = 0.00% * 1510 3.160s (477.8 samples/s);\n"
     ]
    }
   ],
   "source": [
    "do_train(network, trainer, train_source)"
   ]
  },
  {
   "cell_type": "markdown",
   "metadata": {},
   "source": [
    "**Validate the model**"
   ]
  },
  {
   "cell_type": "code",
   "execution_count": 19,
   "metadata": {},
   "outputs": [],
   "source": [
    "# Validate\n",
    "def do_validate(network, val_source):\n",
    "    # process minibatches and perform evaluation\n",
    "    progress_printer = C.logging.ProgressPrinter(tag='Evaluation', num_epochs=0)\n",
    "\n",
    "    val_map = {\n",
    "        network['query']: val_source.streams.query,\n",
    "        network['answer']: val_source.streams.answer\n",
    "        } \n",
    "\n",
    "    evaluator = C.eval.Evaluator(network['loss'], progress_printer)\n",
    "\n",
    "    while True:\n",
    "        minibatch_size = 100\n",
    "        data = val_source.next_minibatch(minibatch_size, input_map=val_map)\n",
    "        if not data:                                 # until we hit the end\n",
    "            break\n",
    "\n",
    "        evaluator.test_minibatch(data)\n",
    "\n",
    "    evaluator.summarize_test_progress()"
   ]
  },
  {
   "cell_type": "code",
   "execution_count": 20,
   "metadata": {},
   "outputs": [
    {
     "name": "stdout",
     "output_type": "stream",
     "text": [
      "Finished Evaluation [1]: Minibatch[1-35]: metric = 0.04% * 410;\n"
     ]
    }
   ],
   "source": [
    "do_validate(network, val_source)"
   ]
  },
  {
   "cell_type": "markdown",
   "metadata": {},
   "source": [
    "**Model Prediction**"
   ]
  },
  {
   "cell_type": "code",
   "execution_count": 21,
   "metadata": {},
   "outputs": [
    {
     "name": "stdout",
     "output_type": "stream",
     "text": [
      "Query Indices: [1202, 1154, 267, 321, 357, 648, 1070, 905, 549, 6, 1203]\n",
      "Answer Indices: [1017, 135, 91, 137, 1018]\n",
      "Poor Answer Indices: [1017, 501, 452, 533, 1018]\n"
     ]
    }
   ],
   "source": [
    "# load dictionaries\n",
    "query_wl = [line.rstrip('\\n') for line in open(data['query']['file'])]\n",
    "answers_wl = [line.rstrip('\\n') for line in open(data['answer']['file'])]\n",
    "query_dict = {query_wl[i]:i for i in range(len(query_wl))}\n",
    "answers_dict = {answers_wl[i]:i for i in range(len(answers_wl))}\n",
    "\n",
    "# let's run a sequence through\n",
    "qry = 'BOS what contribution did  e1  made to science in 1665 EOS'\n",
    "ans = 'BOS book author book_editions_published EOS'\n",
    "ans_poor = 'BOS language human_language main_country EOS'\n",
    "\n",
    "qry_idx = [query_dict[w+' '] for w in qry.split()] # convert to query word indices\n",
    "print('Query Indices:', qry_idx)\n",
    "\n",
    "ans_idx = [answers_dict[w+' '] for w in ans.split()] # convert to answer word indices\n",
    "print('Answer Indices:', ans_idx)\n",
    "\n",
    "ans_poor_idx = [answers_dict[w+' '] for w in ans_poor.split()] # convert to fake answer word indices\n",
    "print('Poor Answer Indices:', ans_poor_idx)"
   ]
  },
  {
   "cell_type": "code",
   "execution_count": 22,
   "metadata": {},
   "outputs": [],
   "source": [
    "# Create the one hot representations\n",
    "qry_onehot = np.zeros([len(qry_idx),len(query_dict)], np.float32)\n",
    "for t in range(len(qry_idx)):\n",
    "    qry_onehot[t,qry_idx[t]] = 1\n",
    "    \n",
    "ans_onehot = np.zeros([len(ans_idx),len(answers_dict)], np.float32)\n",
    "for t in range(len(ans_idx)):\n",
    "    ans_onehot[t,ans_idx[t]] = 1\n",
    "    \n",
    "ans_poor_onehot = np.zeros([len(ans_poor_idx),len(answers_dict)], np.float32)\n",
    "for t in range(len(ans_poor_idx)):\n",
    "    ans_poor_onehot[t, ans_poor_idx[t]] = 1"
   ]
  },
  {
   "cell_type": "code",
   "execution_count": 23,
   "metadata": {},
   "outputs": [
    {
     "name": "stdout",
     "output_type": "stream",
     "text": [
      "Query to Answer similarity: 0.9999151229858398\n",
      "Query to poor-answer similarity: 0.9998884201049805\n"
     ]
    }
   ],
   "source": [
    "qry_embedding = network['query_vector'].eval([qry_onehot])\n",
    "ans_embedding = network['answer_vector'].eval([ans_onehot])\n",
    "ans_poor_embedding = network['answer_vector'].eval([ans_poor_onehot])\n",
    "\n",
    "from scipy.spatial.distance import cosine\n",
    "\n",
    "print('Query to Answer similarity:', 1-cosine(qry_embedding, ans_embedding))\n",
    "print('Query to poor-answer similarity:', 1-cosine(qry_embedding, ans_poor_embedding))"
   ]
  },
  {
   "cell_type": "code",
   "execution_count": null,
   "metadata": {},
   "outputs": [],
   "source": []
  }
 ],
 "metadata": {
  "kernelspec": {
   "display_name": "Python 3",
   "language": "python",
   "name": "python3"
  },
  "language_info": {
   "codemirror_mode": {
    "name": "ipython",
    "version": 3
   },
   "file_extension": ".py",
   "mimetype": "text/x-python",
   "name": "python",
   "nbconvert_exporter": "python",
   "pygments_lexer": "ipython3",
   "version": "3.5.6"
  }
 },
 "nbformat": 4,
 "nbformat_minor": 2
}
